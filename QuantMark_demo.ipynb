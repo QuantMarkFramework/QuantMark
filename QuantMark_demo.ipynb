{
    "cells": [
        {
            "cell_type": "markdown",
            "source": [],
            "metadata": {}
        },
        {
            "cell_type": "markdown",
            "source": [
                "# Libmark demo\n",
                "\n",
                "This notebook demonstrates the usage of the Libmark package. \n",
                "\n",
                "## Pushing\n",
                "\n",
                "Start by importing the relevant packages:"
            ],
            "metadata": {}
        },
        {
            "cell_type": "code",
            "execution_count": null,
            "source": [
                "import libmark as lm\n",
                "import numpy as np\n",
                "import tequila as tq"
            ],
            "outputs": [],
            "metadata": {}
        },
        {
            "cell_type": "markdown",
            "source": [
                "Checking available optimizers:"
            ],
            "metadata": {}
        },
        {
            "cell_type": "code",
            "execution_count": null,
            "source": [
                "print(lm.tracker.get_optimizers())"
            ],
            "outputs": [],
            "metadata": {}
        },
        {
            "cell_type": "markdown",
            "source": [
                "Define functions required later by the VQE loop:"
            ],
            "metadata": {}
        },
        {
            "cell_type": "code",
            "execution_count": null,
            "source": [
                "# Create a molecule (only H2 is properly supported, although other 2 atom molecules can also be used)\n",
                "def create_H2(R, basis_set=\"sto-3g\", transformation=\"Jordan-Wigner\", **kwargs):\n",
                "    geometry = f'H 0.0 0.0 0.0\\nH 0.0 0.0 {R}'\n",
                "    return tq.chemistry.Molecule(geometry=geometry, basis_set=basis_set, transformation=transformation, **kwargs)\n",
                "\n",
                "def create_hamiltonian(molecule):\n",
                "    return molecule.make_hamiltonian()\n",
                "\n",
                "def make_uccsd_ansatz(molecule, trotter_steps, n_qubits=None, **kwargs): \n",
                "    return molecule.make_uccsd_ansatz(trotter_steps, **kwargs)\n",
                "\n",
                "# Create molecules, in case of issues see psi4 error workaround in \"Basic_VQE_example\".\n",
                "def create_molecules(molecule_function, distances):\n",
                "    return [molecule_function(r) for r in distances]\n"
            ],
            "outputs": [],
            "metadata": {}
        },
        {
            "cell_type": "markdown",
            "source": [
                "Define distances and the optimizer to be used:"
            ],
            "metadata": {}
        },
        {
            "cell_type": "code",
            "execution_count": null,
            "source": [
                "optimizer = \"Nelder-Mead\"\n",
                "\n",
                "step = 0.10\n",
                "molecular_distances = np.arange(.0 + step, 2.0 + step, step)\n",
                "molecules = create_molecules(create_H2, molecular_distances)"
            ],
            "outputs": [],
            "metadata": {}
        },
        {
            "cell_type": "markdown",
            "source": [
                "## The VQE loop"
            ],
            "metadata": {}
        },
        {
            "cell_type": "code",
            "execution_count": null,
            "source": [
                "def run_vqe(molecules, hamiltonian_function, ansatz_function, optimizer, **ansatz_kwargs):\n",
                "    qresult = lm.tracker.get_tracker(optimizer, ' TOKEN HERE ') # Token can be aqcuired from the Quantmark website\n",
                "\n",
                "    for i, molecule in enumerate(molecules):\n",
                "        H = hamiltonian_function(molecule)\n",
                "        U = ansatz_function(molecule=molecule, n_qubits=len(H.qubits), **ansatz_kwargs)\n",
                "        E = tq.ExpectationValue(H=H, U=U)\n",
                "        variables = {k:0.0 for k in U.extract_variables()}\n",
                "        result = tq.minimize(objective=E, method=optimizer, initial_values=variables, silent=True)\n",
                "        qresult.add_run(result, molecule, H, U) # Add the run\n",
                "        print(f'Run {i+1}/{len(molecules)} completed')\n",
                "\n",
                "    res = qresult.push() # Push results to the server\n",
                "    print(res) # Prints the result id or a possible error message\n",
                "    qresult.save() # Save data to a JSON file\n"
            ],
            "outputs": [],
            "metadata": {}
        },
        {
            "cell_type": "markdown",
            "source": [
                "Finally we can run the loop:"
            ],
            "metadata": {}
        },
        {
            "cell_type": "code",
            "execution_count": null,
            "source": [
                "ansatz_kwargs = {\"trotter_steps\": 5}\n",
                "run_vqe(molecules, create_hamiltonian, make_uccsd_ansatz, optimizer, **ansatz_kwargs)"
            ],
            "outputs": [],
            "metadata": {}
        },
        {
            "cell_type": "markdown",
            "source": [
                "After running the \"run_vqe\" loop, the results should show up on the Quantmark website, in case of issues, make sure that the token is correct."
            ],
            "metadata": {}
        },
        {
            "cell_type": "markdown",
            "source": [
                "## Downloading\n",
                "\n",
                "Results can be downloaded from the Quantmark website if you are the owner or if the result is public. In both cases, your personal token is needed.\n",
                "\n",
                "A raw dump of all collected data can be downloaded like so:"
            ],
            "metadata": {}
        },
        {
            "cell_type": "code",
            "execution_count": null,
            "source": [
                "data = lm.api.get_data(' ID HERE ', ' TOKEN HERE ') # Returns a dictionary of all data available"
            ],
            "outputs": [],
            "metadata": {}
        },
        {
            "cell_type": "markdown",
            "source": [
                "While data from the above dictionary can be used to manually recreate the experiment, libmark also supports recalculating the molecular energies automatically:"
            ],
            "metadata": {}
        },
        {
            "cell_type": "code",
            "execution_count": null,
            "source": [
                "experiment = lm.api.get_experiment(' ID HERE ', ' TOKEN HERE ')\n",
                "results = experiment.run_experiment() # Returns a list of tuples (distance, object returned by tq.minimize)"
            ],
            "outputs": [],
            "metadata": {}
        },
        {
            "cell_type": "markdown",
            "source": [
                "## Other methods\n",
                "\n",
                "FCI energies for the H2 molecule can be fetched from the Quantmark website.\n",
                "The supported basis_sets are \"sto-3g\", \"6-31g\" and \"def2-QZVPPD\""
            ],
            "metadata": {}
        },
        {
            "cell_type": "code",
            "execution_count": null,
            "source": [
                "sto_3g_fci = lm.api.get_fci(\"sto-3g\")\n",
                "print(sto_3g_fci) # List of pairs (distance, energy)"
            ],
            "outputs": [],
            "metadata": {}
        },
        {
            "cell_type": "markdown",
            "source": [
                "The quantmark website has leaderboards that showcase the best performing algorithms. To include a result in these leaderboards, they need to calculate energies for predetermined distances. The currently accepted distances can be fetched from the api too:"
            ],
            "metadata": {}
        },
        {
            "cell_type": "code",
            "execution_count": 15,
            "source": [
                "benchmark_distances = lm.api.get_distances()\n",
                "print(benchmark_distances) # List of distances"
            ],
            "outputs": [
                {
                    "output_type": "stream",
                    "name": "stdout",
                    "text": [
                        "[0.1, 0.2, 0.3, 0.4, 0.5, 0.6, 0.7, 0.8, 0.9, 1.0, 1.1, 1.2, 1.3, 1.4, 1.5, 1.6, 1.7, 1.8, 1.9, 2.0]\n"
                    ]
                }
            ],
            "metadata": {}
        }
    ],
    "metadata": {
        "orig_nbformat": 4,
        "language_info": {
            "name": "python",
            "version": "3.7.10",
            "mimetype": "text/x-python",
            "codemirror_mode": {
                "name": "ipython",
                "version": 3
            },
            "pygments_lexer": "ipython3",
            "nbconvert_exporter": "python",
            "file_extension": ".py"
        },
        "kernelspec": {
            "name": "python3",
            "display_name": "Python 3.7.10 64-bit ('quantmark': conda)"
        },
        "interpreter": {
            "hash": "d4746597bd6864c1edc6dd9d5524f3cbd57775928515438aa015a3377a2c8eab"
        }
    },
    "nbformat": 4,
    "nbformat_minor": 2
}
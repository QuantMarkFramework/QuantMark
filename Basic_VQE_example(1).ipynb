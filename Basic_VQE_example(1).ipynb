{
 "cells": [
  {
   "cell_type": "markdown",
   "id": "da416f98",
   "metadata": {},
   "source": [
    "# General VQE example"
   ]
  },
  {
   "cell_type": "markdown",
   "id": "b846ed94",
   "metadata": {},
   "source": [
    "Right now, we are building our library to work together with Tequila ([Github](https://github.com/aspuru-guzik-group/tequila), [paper](https://arxiv.org/pdf/2011.03057.pdf)). So let's start with importing it."
   ]
  },
  {
   "cell_type": "code",
   "execution_count": 1,
   "id": "b7d8bdd6",
   "metadata": {},
   "outputs": [],
   "source": [
    "import tequila as tq"
   ]
  },
  {
   "cell_type": "markdown",
   "id": "da1625ee",
   "metadata": {},
   "source": [
    "Lets also import numpy for easy calculations"
   ]
  },
  {
   "cell_type": "code",
   "execution_count": 2,
   "id": "6a1bda53",
   "metadata": {},
   "outputs": [],
   "source": [
    "import numpy as np\n",
    "from LibMark2.quantmark import Qresult"
   ]
  },
  {
   "cell_type": "markdown",
   "id": "4617e6f7",
   "metadata": {},
   "source": [
    "## Create Molecules\n",
    "The Variational Quantum Eigensolver (VQE) algorithm \"simulates\" molecules on a quantum level. This basically comes down to that it is able to find the \"ground state energy\" (the energy belonging to the lowest state it can be in) of the molecule. This is interesting because chemicals like to be in their lowest energy state.\n",
    "\n",
    "A VQE works by approximating the eigenvalues of a matrix. In quantum chemistry, the molecule is represented by a matrix called the Hamiltonian such that the eigenvalues of the Hamiltonian correspond to the possible energy level of the molecule and the eigenvectors represent the molecular states. The lowest eigenvalue is the lowest energy state, which is the one we are trying to find.\n",
    "\n",
    "In order to represent this molecule on a quantum computer, we need to agree on a method to turn electron states of the molecule to qubits. And ofcourse, there are multiple ways you can do this and they depend on your `basis_set` (analogous to 3D systems: what is up? Left-handed vs right-handed systems). Although there are many choices for the `basis_set`, `\"sto-3g\"` is the most commenly used one in VQE. The choice of `transformation` is a bit more controversial. There are multiple camps, but the 2 largest are `\"jordan-wigner\"` and `\"bravyi-kitaev\"`. Here is a [paper](https://arxiv.org/pdf/1812.02233.pdf) that compares the two with a more detailed explanation."
   ]
  },
  {
   "cell_type": "markdown",
   "id": "03de4956",
   "metadata": {},
   "source": [
    "Below we create a hydrogen molecule and a Lithium Hydride molecule. The former consists of two H atoms, and the latter of a Li atom and a H atom. One is located in the origin (0.0, 0.0, 0.0) and the other is a distance `R` away (0.0, 0.0,`R`). This is called the `geometry`.\n",
    "\n",
    "Tequila takes care of the inter-library communication and has a simple Molecule class that we use. Under the surface, it actually uses the molecule representation of which ever chemistry library you have installed. I used [`psi4`](https://psicode.org/), but [`pyscf`](https://pyscf.org/) and [`madness`](https://github.com/m-a-d-n-e-s-s/madness) are also popular, supported choices."
   ]
  },
  {
   "cell_type": "code",
   "execution_count": 3,
   "id": "95492c1d",
   "metadata": {},
   "outputs": [],
   "source": [
    "def create_H2(R, basis_set=\"sto-3g\", transformation=\"jordan-wigner\", **kwargs): \n",
    "    geometry = f'H 0.0 0.0 0.0\\nH 0.0 0.0 {R}'\n",
    "    return tq.chemistry.Molecule(geometry=geometry, basis_set=basis_set, transformation=transformation, **kwargs)\n",
    "\n",
    "def create_LiH(R, basis_set=\"sto-3g\", transformation=\"jordan-wigner\", **kwargs):\n",
    "    geometry = f'Li 0.0 0.0 0.0\\nH 0.0 0.0 {R}'\n",
    "    return tq.chemistry.Molecule(geometry=geometry, basis_set=basis_set, transformation=transformation, **kwargs)"
   ]
  },
  {
   "cell_type": "markdown",
   "id": "2287af63",
   "metadata": {},
   "source": [
    "Given a molecule and the way you want it represented, you can calculate/generate the matrix that describes the entire thing: the Hamiltonian.\n",
    "\n",
    "Again, Tequila does the hard work for us"
   ]
  },
  {
   "cell_type": "code",
   "execution_count": 4,
   "id": "80790ba9",
   "metadata": {},
   "outputs": [],
   "source": [
    "def create_hamiltonian(molecule):\n",
    "    return molecule.make_hamiltonian()"
   ]
  },
  {
   "cell_type": "markdown",
   "id": "0d453bad",
   "metadata": {},
   "source": [
    "### Baseline truth\n",
    "We want to see if our VQE algorithm actually finds what it needs to find. To do this, we calculate the ground state energy by hand, which is a lot faster than simulating the molecule for small molecules like this, but the idea is to use this algorithm for molecules that are too large to simulate with a classical computer. Unfortunately, these molecules are also too large to simulate on current quantum computers. So it is basically a proof of concept.\n",
    "\n",
    "We are using `\"fci\"` as a method for calculating the true energy since this is what is used in most, if not all, VQE papers. I am not sure what it means. Other options for psi4 can be found [here](https://psicode.org/psi4manual/master/api/psi4.driver.energy.html)."
   ]
  },
  {
   "cell_type": "code",
   "execution_count": 5,
   "id": "97c01996",
   "metadata": {},
   "outputs": [],
   "source": [
    "def calculate_true_ground_state_energy(molecule):\n",
    "    return molecule.compute_energy(\"fci\")"
   ]
  },
  {
   "cell_type": "markdown",
   "id": "9ab46778",
   "metadata": {},
   "source": [
    "Unfortunately, there is a bug that sometimes gives a weird error from psi4 regarding that something is NULL in detci. It does this for some molecules (with different R) and changing the R slightly removes the error. However, this error is device dependent. Me and Leo get it for different R values. Workaround below. "
   ]
  },
  {
   "cell_type": "markdown",
   "id": "a24d6084",
   "metadata": {},
   "source": [
    "## Create the ansatz\n",
    "The [ansatz](https://en.wikipedia.org/wiki/Ansatz) is the educated guess that we are going to adjust to find the solution. In principle, it can by literally any quantum circuit as long as it has sufficient amount of parameters to adjust and sufficient amount of entanglement (2-qubit gates) to represent what is actually going on in the molecule."
   ]
  },
  {
   "cell_type": "markdown",
   "id": "fb9b6c3a",
   "metadata": {},
   "source": [
    "### UCCSD ansatz\n",
    "The UCCSD ansatz is chemically-inspired. This means that the structure of the circuit reflects the structure of the molecule. You can find a bit more information about it [here](https://en.wikipedia.org/wiki/Coupled_cluster). This ansatz was originally used for the first VQE algorithm ([paper](https://arxiv.org/pdf/1304.3061.pdf)).\n",
    "\n",
    "It is not important for you to know how it works, only that it exists and Tequila can make one for us."
   ]
  },
  {
   "cell_type": "code",
   "execution_count": 6,
   "id": "cdba579e",
   "metadata": {},
   "outputs": [],
   "source": [
    "def make_uccsd_ansatz(molecule, trotter_steps, n_qubits=None, **kwargs): \n",
    "    return molecule.make_uccsd_ansatz(trotter_steps, **kwargs)"
   ]
  },
  {
   "cell_type": "markdown",
   "id": "d489be5d",
   "metadata": {},
   "source": [
    "Note that the n_qubits parameters is not used here. It is only there to unify the function call to the ansatz creation later with respect to the hardware efficient ansatz (which needs n_qubits, but not the molecule)."
   ]
  },
  {
   "cell_type": "markdown",
   "id": "88b33a49",
   "metadata": {},
   "source": [
    "### Hardware efficient ansatz\n",
    "The hardware-efficient ansatz attempts to take the device hardware into account when constructing the ansatz and not the molecular structure. In general, it consists of layers of parametrized single qubit rotations on each qubit and a large entangling operation (`uent`) on every qubit, created with 2-qubit gates that fit the device. This structure really resembles a fully connected neural network where the rotations are the weights.\n",
    "\n",
    "From my compiling experience, I know that this is a crazy inefficient structure. Moreover, in practice `uent` is structured in a line and then run on quantum devices whose architectures don't support a line. This is where I want to make changes, but I need a baseline to compare to."
   ]
  },
  {
   "cell_type": "markdown",
   "id": "5197b7ec",
   "metadata": {},
   "source": [
    "The hardware-efficient ansatz was originally proposed in [this paper](https://arxiv.org/abs/1704.05018). Originally, it took _45 days_ to run on an actual IBM quantum computer for the LiH molecule, but IBM recently managed to improve that time to _9 hours_ using more efficient code ([see announcement](https://research.ibm.com/blog/120x-quantum-speedup?lnk=ushpv18re2))."
   ]
  },
  {
   "cell_type": "code",
   "execution_count": 7,
   "id": "9c8754ff",
   "metadata": {},
   "outputs": [],
   "source": [
    "def create_uent(n_qubits):\n",
    "    circuit = tq.QCircuit()\n",
    "    for i in range(1, n_qubits, 2):\n",
    "        circuit += tq.gates.CZ(target=i, control=i-1)\n",
    "    for i in range(2, n_qubits, 2):\n",
    "        circuit += tq.gates.CZ(target=i, control=i-1)\n",
    "    return circuit\n",
    "\n",
    "\n",
    "def create_rotations(n_qubits, depth_position):\n",
    "    circuit = tq.QCircuit()\n",
    "    for qubit in range(n_qubits):\n",
    "        circuit += tq.gates.Rz(f'{qubit}^{depth_position}_0',target=qubit)\n",
    "        circuit += tq.gates.Rx(f'{qubit}^{depth_position}_1',target=qubit)\n",
    "        circuit += tq.gates.Rz(f'{qubit}^{depth_position}_2',target=qubit)\n",
    "    return circuit\n",
    "\n",
    "def make_hardware_ansatz(n_qubits, d, uent = None, **kwargs):\n",
    "    if not uent:\n",
    "        uent = create_uent(n_qubits)\n",
    "    circuit = create_rotations(n_qubits, 0)\n",
    "    for depth in range(0, d):\n",
    "        circuit += uent\n",
    "        circuit += create_rotations(n_qubits, depth)\n",
    "    return circuit"
   ]
  },
  {
   "cell_type": "markdown",
   "id": "b833be26",
   "metadata": {},
   "source": [
    "## Optimizer\n",
    "The optimizer is basically a function to determine how to change the parameters in the ansatz based on its performance the full algorithm. In most VQE papers this is done either using the `\"Nelder-Mead\"` simplex method or the `\"BFGS\"` optimizer. I believe both are exact optimizers, so I am still curious to see whether it can be sped up using an approximate optimizer. \n",
    "\n",
    "Luckily, Tequila takes care of all this and we only need to give a string to `tq.minimize(...)` together with the problem description."
   ]
  },
  {
   "cell_type": "code",
   "execution_count": 8,
   "id": "43345785",
   "metadata": {},
   "outputs": [],
   "source": [
    "optimizer=\"Nelder-Mead\" # Alternatively: \"BFGS\""
   ]
  },
  {
   "cell_type": "markdown",
   "id": "89db9d62",
   "metadata": {},
   "source": [
    "# Main loop"
   ]
  },
  {
   "cell_type": "markdown",
   "id": "cd7edd24",
   "metadata": {},
   "source": [
    "In the VQE papers, when showing the performance of the algorithm, they generally plot the obtained ground state energy against different inter-atomic distances in the molecule. We are doing the same. \n",
    "\n",
    "I recommend to only use the H2 when trying different things. LiH took about a day on my desktop with i7 and GTX 1070 (CUDA accelerated) with the UCCSD ansatz, 10 trotter steps and 7 orbital distances. That is not suitable for trying things out."
   ]
  },
  {
   "cell_type": "code",
   "execution_count": 9,
   "id": "1a8e20e1",
   "metadata": {
    "scrolled": true
   },
   "outputs": [
    {
     "output_type": "stream",
     "name": "stdout",
     "text": [
      "0.25 0.5 0.75 1.0 1.25 1.5 1.75 2.0\n"
     ]
    }
   ],
   "source": [
    "step = 0.25\n",
    "molecular_distances = np.arange(.0 + step, 2.0 + step, step) # Quick one-based iterator with given step size.\n",
    "print(*molecular_distances)"
   ]
  },
  {
   "cell_type": "markdown",
   "id": "5b28d202",
   "metadata": {},
   "source": [
    "As said before, psi4 might give an error when calculating the ground truth. As a workaround we try again with a similar, but different value. We store the new distances for easy plotting later. The molecules with the approximate distances between the molecules are also used for the VQE for direct comparison."
   ]
  },
  {
   "cell_type": "code",
   "execution_count": 10,
   "id": "4e273b2c",
   "metadata": {},
   "outputs": [
    {
     "output_type": "stream",
     "name": "stdout",
     "text": [
      "Error with distance 1.75\n",
      "Error with distance 2.0\n",
      "Error with distance 1.999\n"
     ]
    }
   ],
   "source": [
    "# psi4 error workaround\n",
    "def create_molecules(molecule_function, distances):\n",
    "    molecules = []\n",
    "    actual_distances = []\n",
    "    true_energies = []\n",
    "    for r in distances:\n",
    "        success = False\n",
    "        while not success:\n",
    "            try:\n",
    "                molecule = molecule_function(r)\n",
    "                energy = calculate_true_ground_state_energy(molecule)\n",
    "                success = True\n",
    "            except:\n",
    "                print(\"Error with distance\", r)\n",
    "                r -= 0.001 #Try again with a slightly smhttp://0.0.0.0:8000/api/aller distance\n",
    "        molecules.append(molecule)\n",
    "        actual_distances.append(r)\n",
    "        true_energies.append(energy)\n",
    "    return molecules, actual_distances, true_energies\n",
    "            \n",
    "\n",
    "# Create the molecules\n",
    "molecules, distances, truth = create_molecules(create_H2, molecular_distances) "
   ]
  },
  {
   "cell_type": "code",
   "execution_count": 11,
   "id": "c8e7cb45",
   "metadata": {},
   "outputs": [
    {
     "output_type": "execute_result",
     "data": {
      "text/plain": [
       "0.25"
      ]
     },
     "metadata": {},
     "execution_count": 11
    }
   ],
   "source": [
    "# Note that you can also retroactively find the molecular distance in the geometry of the molecule object.\n",
    "molecules[0].parameters.get_geometry()[-1][-1][-1]"
   ]
  },
  {
   "cell_type": "markdown",
   "id": "bffb64e5",
   "metadata": {},
   "source": [
    "Given all the components, we can put together the main loop.\n",
    "\n",
    "From the molecule, we make the hamiltonian `H`. \n",
    "Then we can make the ansatz `U` which requires the `molecule` if it is chemically-inspired and the number of qubits `n_qubits` if it is hardware efficient. \n",
    "For the optimizer, we need to know the objective function `E`, which is the expection of the ansatz and hamiltonian together. A more detailed explanation with math example can be found [here](https://github.com/Le0nerdo/random/blob/main/Using_VQE_to_Approximate_the_Lowest_Eigenvalue_of_a_Hermitian_Matrix.ipynb).\n",
    "The variables of the optimizer are the parameterized gates in the ansatz `U`.\n",
    "Then we can find an approximate minimal solution using the given optimizer method, `optimizer`."
   ]
  },
  {
   "cell_type": "code",
   "execution_count": 12,
   "id": "7a3de967",
   "metadata": {},
   "outputs": [],
   "source": [
    "# Generic batch optimize for \"any\" VQE\n",
    "def run_vqe(molecules, hamiltonian_function, ansatz_function, optimizer, silent=True, **ansatz_kwargs):\n",
    "    results = []\n",
    "    qresult = Qresult(optimizer)\n",
    "    for i, molecule in enumerate(molecules):\n",
    "        print(str(i+1)+\"/\"+str(len(molecules)), end=\"\\t\")\n",
    "        print(\"Creating the Hamiltonian.\", end=\"\\t\")\n",
    "        H = hamiltonian_function(molecule)\n",
    "        n_qubits = len(H.qubits)\n",
    "        print(\"Creating ansatz.\", end=\"\\t\")\n",
    "        U = ansatz_function(molecule=molecule, n_qubits=n_qubits, **ansatz_kwargs)\n",
    "        print(\"Creating objective function\")\n",
    "        E = tq.ExpectationValue(H=H, U=U)\n",
    "        variables = {k:0.0 for k in U.extract_variables()}\n",
    "        print(\"Optimizing.\", end=\"\\t\")\n",
    "        result = tq.minimize(objective=E, method=optimizer, initial_values=variables, silent=silent)\n",
    "        print()\n",
    "        results.append(result)\n",
    "        print(result)\n",
    "        qresult.add_run(result, molecule, H, U)\n",
    "    print(\"Done\")\n",
    "    #qresult.push()\n",
    "    return results"
   ]
  },
  {
   "cell_type": "markdown",
   "id": "3800c9a1",
   "metadata": {},
   "source": [
    "To run the above loop with the uccsd ansatz, we nee do pick the amout of `trotter_steps` that are needed to create the ansatz. More steps is more accurate chemical representaiton, but also a larger circuit. I just picked 10 arbitrarily"
   ]
  },
  {
   "cell_type": "code",
   "execution_count": 13,
   "id": "6cebcbd8",
   "metadata": {
    "tags": []
   },
   "outputs": [
    {
     "output_type": "stream",
     "name": "stderr",
     "text": [
      "WARNING:absl:No GPU/TPU found, falling back to CPU. (Set TF_CPP_MIN_LOG_LEVEL=0 and rerun for more info.)\n",
      "1/8\tCreating the Hamiltonian.\tCreating ansatz.\tCreating objective function\n",
      "Optimizing.\t\n",
      "2/8\tCreating the Hamiltonian.\tCreating ansatz.\tCreating objective function\n",
      "Optimizing.\t\n",
      "3/8\tCreating the Hamiltonian.\tCreating ansatz.\tCreating objective function\n",
      "Optimizing.\t\n",
      "4/8\tCreating the Hamiltonian.\tCreating ansatz.\tCreating objective function\n",
      "Optimizing.\t\n",
      "5/8\tCreating the Hamiltonian.\tCreating ansatz.\tCreating objective function\n",
      "Optimizing.\t\n",
      "6/8\tCreating the Hamiltonian.\tCreating ansatz.\tCreating objective function\n",
      "Optimizing.\t\n",
      "7/8\tCreating the Hamiltonian.\tCreating ansatz.\tCreating objective function\n",
      "Optimizing.\t\n",
      "8/8\tCreating the Hamiltonian.\tCreating ansatz.\tCreating objective function\n",
      "Optimizing.\t\n",
      "Done\n"
     ]
    }
   ],
   "source": [
    "uccsd_ansatz_kwargs = {\"trotter_steps\": 3}\n",
    "uccsd_results = run_vqe(molecules, create_hamiltonian, make_uccsd_ansatz, optimizer, **uccsd_ansatz_kwargs)"
   ]
  },
  {
   "cell_type": "code",
   "execution_count": 14,
   "metadata": {
    "tags": []
   },
   "outputs": [],
   "source": [
    "#print(uccsd_results.get_types())\n"
   ]
  },
  {
   "cell_type": "code",
   "execution_count": 15,
   "metadata": {},
   "outputs": [],
   "source": [
    "#print(uccsd_results.get_results())"
   ]
  },
  {
   "cell_type": "markdown",
   "id": "7d817e8f",
   "metadata": {},
   "source": [
    "Similarly, for the hardware efficient ansatz, we need to pick the number of layers. We try a few different ones."
   ]
  },
  {
   "cell_type": "code",
   "execution_count": 16,
   "id": "25d6d475",
   "metadata": {},
   "outputs": [
    {
     "output_type": "execute_result",
     "data": {
      "text/plain": [
       "'\\nn_layers = range(2, 4) \\nhardware_results = []\\nfor layers in n_layers:\\n    print(\"Hardware efficient ansatz with\", layers, \"layers.\")\\n    hardware_ansatz_kwargs = {\"d\":layers}\\n    result = run_vqe(molecules, create_hamiltonian, make_hardware_ansatz, optimizer, **hardware_ansatz_kwargs)\\n    hardware_results.append(result)\\n'"
      ]
     },
     "metadata": {},
     "execution_count": 16
    }
   ],
   "source": [
    "\"\"\"\n",
    "n_layers = range(2, 4) \n",
    "hardware_results = []\n",
    "for layers in n_layers:\n",
    "    print(\"Hardware efficient ansatz with\", layers, \"layers.\")\n",
    "    hardware_ansatz_kwargs = {\"d\":layers}\n",
    "    result = run_vqe(molecules, create_hamiltonian, make_hardware_ansatz, optimizer, **hardware_ansatz_kwargs)\n",
    "    hardware_results.append(result)\n",
    "\"\"\""
   ]
  },
  {
   "cell_type": "markdown",
   "id": "9b20b562",
   "metadata": {},
   "source": [
    "# Plotting results"
   ]
  },
  {
   "cell_type": "code",
   "execution_count": 17,
   "id": "bab1e3ae",
   "metadata": {},
   "outputs": [
    {
     "output_type": "display_data",
     "data": {
      "text/plain": "<Figure size 432x288 with 1 Axes>",
      "image/svg+xml": "<?xml version=\"1.0\" encoding=\"utf-8\" standalone=\"no\"?>\n<!DOCTYPE svg PUBLIC \"-//W3C//DTD SVG 1.1//EN\"\n  \"http://www.w3.org/Graphics/SVG/1.1/DTD/svg11.dtd\">\n<svg height=\"248.518125pt\" version=\"1.1\" viewBox=\"0 0 380.482813 248.518125\" width=\"380.482813pt\" xmlns=\"http://www.w3.org/2000/svg\" xmlns:xlink=\"http://www.w3.org/1999/xlink\">\n <metadata>\n  <rdf:RDF xmlns:cc=\"http://creativecommons.org/ns#\" xmlns:dc=\"http://purl.org/dc/elements/1.1/\" xmlns:rdf=\"http://www.w3.org/1999/02/22-rdf-syntax-ns#\">\n   <cc:Work>\n    <dc:type rdf:resource=\"http://purl.org/dc/dcmitype/StillImage\"/>\n    <dc:date>2021-06-10T15:03:58.533408</dc:date>\n    <dc:format>image/svg+xml</dc:format>\n    <dc:creator>\n     <cc:Agent>\n      <dc:title>Matplotlib v3.4.2, https://matplotlib.org/</dc:title>\n     </cc:Agent>\n    </dc:creator>\n   </cc:Work>\n  </rdf:RDF>\n </metadata>\n <defs>\n  <style type=\"text/css\">*{stroke-linecap:butt;stroke-linejoin:round;}</style>\n </defs>\n <g id=\"figure_1\">\n  <g id=\"patch_1\">\n   <path d=\"M -0 248.518125 \nL 380.482813 248.518125 \nL 380.482813 0 \nL -0 0 \nz\n\" style=\"fill:none;\"/>\n  </g>\n  <g id=\"axes_1\">\n   <g id=\"patch_2\">\n    <path d=\"M 38.482813 224.64 \nL 373.282813 224.64 \nL 373.282813 7.2 \nL 38.482813 7.2 \nz\n\" style=\"fill:#ffffff;\"/>\n   </g>\n   <g id=\"matplotlib.axis_1\">\n    <g id=\"xtick_1\">\n     <g id=\"line2d_1\">\n      <defs>\n       <path d=\"M 0 0 \nL 0 3.5 \n\" id=\"m1897beccfe\" style=\"stroke:#000000;stroke-width:0.8;\"/>\n      </defs>\n      <g>\n       <use style=\"stroke:#000000;stroke-width:0.8;\" x=\"53.700994\" xlink:href=\"#m1897beccfe\" y=\"224.64\"/>\n      </g>\n     </g>\n     <g id=\"text_1\">\n      <!-- 0.25 -->\n      <g transform=\"translate(42.568182 239.238437)scale(0.1 -0.1)\">\n       <defs>\n        <path d=\"M 2034 4250 \nQ 1547 4250 1301 3770 \nQ 1056 3291 1056 2328 \nQ 1056 1369 1301 889 \nQ 1547 409 2034 409 \nQ 2525 409 2770 889 \nQ 3016 1369 3016 2328 \nQ 3016 3291 2770 3770 \nQ 2525 4250 2034 4250 \nz\nM 2034 4750 \nQ 2819 4750 3233 4129 \nQ 3647 3509 3647 2328 \nQ 3647 1150 3233 529 \nQ 2819 -91 2034 -91 \nQ 1250 -91 836 529 \nQ 422 1150 422 2328 \nQ 422 3509 836 4129 \nQ 1250 4750 2034 4750 \nz\n\" id=\"DejaVuSans-30\" transform=\"scale(0.015625)\"/>\n        <path d=\"M 684 794 \nL 1344 794 \nL 1344 0 \nL 684 0 \nL 684 794 \nz\n\" id=\"DejaVuSans-2e\" transform=\"scale(0.015625)\"/>\n        <path d=\"M 1228 531 \nL 3431 531 \nL 3431 0 \nL 469 0 \nL 469 531 \nQ 828 903 1448 1529 \nQ 2069 2156 2228 2338 \nQ 2531 2678 2651 2914 \nQ 2772 3150 2772 3378 \nQ 2772 3750 2511 3984 \nQ 2250 4219 1831 4219 \nQ 1534 4219 1204 4116 \nQ 875 4013 500 3803 \nL 500 4441 \nQ 881 4594 1212 4672 \nQ 1544 4750 1819 4750 \nQ 2544 4750 2975 4387 \nQ 3406 4025 3406 3419 \nQ 3406 3131 3298 2873 \nQ 3191 2616 2906 2266 \nQ 2828 2175 2409 1742 \nQ 1991 1309 1228 531 \nz\n\" id=\"DejaVuSans-32\" transform=\"scale(0.015625)\"/>\n        <path d=\"M 691 4666 \nL 3169 4666 \nL 3169 4134 \nL 1269 4134 \nL 1269 2991 \nQ 1406 3038 1543 3061 \nQ 1681 3084 1819 3084 \nQ 2600 3084 3056 2656 \nQ 3513 2228 3513 1497 \nQ 3513 744 3044 326 \nQ 2575 -91 1722 -91 \nQ 1428 -91 1123 -41 \nQ 819 9 494 109 \nL 494 744 \nQ 775 591 1075 516 \nQ 1375 441 1709 441 \nQ 2250 441 2565 725 \nQ 2881 1009 2881 1497 \nQ 2881 1984 2565 2268 \nQ 2250 2553 1709 2553 \nQ 1456 2553 1204 2497 \nQ 953 2441 691 2322 \nL 691 4666 \nz\n\" id=\"DejaVuSans-35\" transform=\"scale(0.015625)\"/>\n       </defs>\n       <use xlink:href=\"#DejaVuSans-30\"/>\n       <use x=\"63.623047\" xlink:href=\"#DejaVuSans-2e\"/>\n       <use x=\"95.410156\" xlink:href=\"#DejaVuSans-32\"/>\n       <use x=\"159.033203\" xlink:href=\"#DejaVuSans-35\"/>\n      </g>\n     </g>\n    </g>\n    <g id=\"xtick_2\">\n     <g id=\"line2d_2\">\n      <g>\n       <use style=\"stroke:#000000;stroke-width:0.8;\" x=\"97.231263\" xlink:href=\"#m1897beccfe\" y=\"224.64\"/>\n      </g>\n     </g>\n     <g id=\"text_2\">\n      <!-- 0.50 -->\n      <g transform=\"translate(86.09845 239.238437)scale(0.1 -0.1)\">\n       <use xlink:href=\"#DejaVuSans-30\"/>\n       <use x=\"63.623047\" xlink:href=\"#DejaVuSans-2e\"/>\n       <use x=\"95.410156\" xlink:href=\"#DejaVuSans-35\"/>\n       <use x=\"159.033203\" xlink:href=\"#DejaVuSans-30\"/>\n      </g>\n     </g>\n    </g>\n    <g id=\"xtick_3\">\n     <g id=\"line2d_3\">\n      <g>\n       <use style=\"stroke:#000000;stroke-width:0.8;\" x=\"140.761531\" xlink:href=\"#m1897beccfe\" y=\"224.64\"/>\n      </g>\n     </g>\n     <g id=\"text_3\">\n      <!-- 0.75 -->\n      <g transform=\"translate(129.628719 239.238437)scale(0.1 -0.1)\">\n       <defs>\n        <path d=\"M 525 4666 \nL 3525 4666 \nL 3525 4397 \nL 1831 0 \nL 1172 0 \nL 2766 4134 \nL 525 4134 \nL 525 4666 \nz\n\" id=\"DejaVuSans-37\" transform=\"scale(0.015625)\"/>\n       </defs>\n       <use xlink:href=\"#DejaVuSans-30\"/>\n       <use x=\"63.623047\" xlink:href=\"#DejaVuSans-2e\"/>\n       <use x=\"95.410156\" xlink:href=\"#DejaVuSans-37\"/>\n       <use x=\"159.033203\" xlink:href=\"#DejaVuSans-35\"/>\n      </g>\n     </g>\n    </g>\n    <g id=\"xtick_4\">\n     <g id=\"line2d_4\">\n      <g>\n       <use style=\"stroke:#000000;stroke-width:0.8;\" x=\"184.291799\" xlink:href=\"#m1897beccfe\" y=\"224.64\"/>\n      </g>\n     </g>\n     <g id=\"text_4\">\n      <!-- 1.00 -->\n      <g transform=\"translate(173.158987 239.238437)scale(0.1 -0.1)\">\n       <defs>\n        <path d=\"M 794 531 \nL 1825 531 \nL 1825 4091 \nL 703 3866 \nL 703 4441 \nL 1819 4666 \nL 2450 4666 \nL 2450 531 \nL 3481 531 \nL 3481 0 \nL 794 0 \nL 794 531 \nz\n\" id=\"DejaVuSans-31\" transform=\"scale(0.015625)\"/>\n       </defs>\n       <use xlink:href=\"#DejaVuSans-31\"/>\n       <use x=\"63.623047\" xlink:href=\"#DejaVuSans-2e\"/>\n       <use x=\"95.410156\" xlink:href=\"#DejaVuSans-30\"/>\n       <use x=\"159.033203\" xlink:href=\"#DejaVuSans-30\"/>\n      </g>\n     </g>\n    </g>\n    <g id=\"xtick_5\">\n     <g id=\"line2d_5\">\n      <g>\n       <use style=\"stroke:#000000;stroke-width:0.8;\" x=\"227.822068\" xlink:href=\"#m1897beccfe\" y=\"224.64\"/>\n      </g>\n     </g>\n     <g id=\"text_5\">\n      <!-- 1.25 -->\n      <g transform=\"translate(216.689255 239.238437)scale(0.1 -0.1)\">\n       <use xlink:href=\"#DejaVuSans-31\"/>\n       <use x=\"63.623047\" xlink:href=\"#DejaVuSans-2e\"/>\n       <use x=\"95.410156\" xlink:href=\"#DejaVuSans-32\"/>\n       <use x=\"159.033203\" xlink:href=\"#DejaVuSans-35\"/>\n      </g>\n     </g>\n    </g>\n    <g id=\"xtick_6\">\n     <g id=\"line2d_6\">\n      <g>\n       <use style=\"stroke:#000000;stroke-width:0.8;\" x=\"271.352336\" xlink:href=\"#m1897beccfe\" y=\"224.64\"/>\n      </g>\n     </g>\n     <g id=\"text_6\">\n      <!-- 1.50 -->\n      <g transform=\"translate(260.219524 239.238437)scale(0.1 -0.1)\">\n       <use xlink:href=\"#DejaVuSans-31\"/>\n       <use x=\"63.623047\" xlink:href=\"#DejaVuSans-2e\"/>\n       <use x=\"95.410156\" xlink:href=\"#DejaVuSans-35\"/>\n       <use x=\"159.033203\" xlink:href=\"#DejaVuSans-30\"/>\n      </g>\n     </g>\n    </g>\n    <g id=\"xtick_7\">\n     <g id=\"line2d_7\">\n      <g>\n       <use style=\"stroke:#000000;stroke-width:0.8;\" x=\"314.882604\" xlink:href=\"#m1897beccfe\" y=\"224.64\"/>\n      </g>\n     </g>\n     <g id=\"text_7\">\n      <!-- 1.75 -->\n      <g transform=\"translate(303.749792 239.238437)scale(0.1 -0.1)\">\n       <use xlink:href=\"#DejaVuSans-31\"/>\n       <use x=\"63.623047\" xlink:href=\"#DejaVuSans-2e\"/>\n       <use x=\"95.410156\" xlink:href=\"#DejaVuSans-37\"/>\n       <use x=\"159.033203\" xlink:href=\"#DejaVuSans-35\"/>\n      </g>\n     </g>\n    </g>\n    <g id=\"xtick_8\">\n     <g id=\"line2d_8\">\n      <g>\n       <use style=\"stroke:#000000;stroke-width:0.8;\" x=\"358.412873\" xlink:href=\"#m1897beccfe\" y=\"224.64\"/>\n      </g>\n     </g>\n     <g id=\"text_8\">\n      <!-- 2.00 -->\n      <g transform=\"translate(347.28006 239.238437)scale(0.1 -0.1)\">\n       <use xlink:href=\"#DejaVuSans-32\"/>\n       <use x=\"63.623047\" xlink:href=\"#DejaVuSans-2e\"/>\n       <use x=\"95.410156\" xlink:href=\"#DejaVuSans-30\"/>\n       <use x=\"159.033203\" xlink:href=\"#DejaVuSans-30\"/>\n      </g>\n     </g>\n    </g>\n   </g>\n   <g id=\"matplotlib.axis_2\">\n    <g id=\"ytick_1\">\n     <g id=\"line2d_9\">\n      <defs>\n       <path d=\"M 0 0 \nL -3.5 0 \n\" id=\"m3446d778fb\" style=\"stroke:#000000;stroke-width:0.8;\"/>\n      </defs>\n      <g>\n       <use style=\"stroke:#000000;stroke-width:0.8;\" x=\"38.482813\" xlink:href=\"#m3446d778fb\" y=\"182.183637\"/>\n      </g>\n     </g>\n     <g id=\"text_9\">\n      <!-- −1.0 -->\n      <g transform=\"translate(7.2 185.982855)scale(0.1 -0.1)\">\n       <defs>\n        <path d=\"M 678 2272 \nL 4684 2272 \nL 4684 1741 \nL 678 1741 \nL 678 2272 \nz\n\" id=\"DejaVuSans-2212\" transform=\"scale(0.015625)\"/>\n       </defs>\n       <use xlink:href=\"#DejaVuSans-2212\"/>\n       <use x=\"83.789062\" xlink:href=\"#DejaVuSans-31\"/>\n       <use x=\"147.412109\" xlink:href=\"#DejaVuSans-2e\"/>\n       <use x=\"179.199219\" xlink:href=\"#DejaVuSans-30\"/>\n      </g>\n     </g>\n    </g>\n    <g id=\"ytick_2\">\n     <g id=\"line2d_10\">\n      <g>\n       <use style=\"stroke:#000000;stroke-width:0.8;\" x=\"38.482813\" xlink:href=\"#m3446d778fb\" y=\"134.672809\"/>\n      </g>\n     </g>\n     <g id=\"text_10\">\n      <!-- −0.8 -->\n      <g transform=\"translate(7.2 138.472027)scale(0.1 -0.1)\">\n       <defs>\n        <path d=\"M 2034 2216 \nQ 1584 2216 1326 1975 \nQ 1069 1734 1069 1313 \nQ 1069 891 1326 650 \nQ 1584 409 2034 409 \nQ 2484 409 2743 651 \nQ 3003 894 3003 1313 \nQ 3003 1734 2745 1975 \nQ 2488 2216 2034 2216 \nz\nM 1403 2484 \nQ 997 2584 770 2862 \nQ 544 3141 544 3541 \nQ 544 4100 942 4425 \nQ 1341 4750 2034 4750 \nQ 2731 4750 3128 4425 \nQ 3525 4100 3525 3541 \nQ 3525 3141 3298 2862 \nQ 3072 2584 2669 2484 \nQ 3125 2378 3379 2068 \nQ 3634 1759 3634 1313 \nQ 3634 634 3220 271 \nQ 2806 -91 2034 -91 \nQ 1263 -91 848 271 \nQ 434 634 434 1313 \nQ 434 1759 690 2068 \nQ 947 2378 1403 2484 \nz\nM 1172 3481 \nQ 1172 3119 1398 2916 \nQ 1625 2713 2034 2713 \nQ 2441 2713 2670 2916 \nQ 2900 3119 2900 3481 \nQ 2900 3844 2670 4047 \nQ 2441 4250 2034 4250 \nQ 1625 4250 1398 4047 \nQ 1172 3844 1172 3481 \nz\n\" id=\"DejaVuSans-38\" transform=\"scale(0.015625)\"/>\n       </defs>\n       <use xlink:href=\"#DejaVuSans-2212\"/>\n       <use x=\"83.789062\" xlink:href=\"#DejaVuSans-30\"/>\n       <use x=\"147.412109\" xlink:href=\"#DejaVuSans-2e\"/>\n       <use x=\"179.199219\" xlink:href=\"#DejaVuSans-38\"/>\n      </g>\n     </g>\n    </g>\n    <g id=\"ytick_3\">\n     <g id=\"line2d_11\">\n      <g>\n       <use style=\"stroke:#000000;stroke-width:0.8;\" x=\"38.482813\" xlink:href=\"#m3446d778fb\" y=\"87.161981\"/>\n      </g>\n     </g>\n     <g id=\"text_11\">\n      <!-- −0.6 -->\n      <g transform=\"translate(7.2 90.961199)scale(0.1 -0.1)\">\n       <defs>\n        <path d=\"M 2113 2584 \nQ 1688 2584 1439 2293 \nQ 1191 2003 1191 1497 \nQ 1191 994 1439 701 \nQ 1688 409 2113 409 \nQ 2538 409 2786 701 \nQ 3034 994 3034 1497 \nQ 3034 2003 2786 2293 \nQ 2538 2584 2113 2584 \nz\nM 3366 4563 \nL 3366 3988 \nQ 3128 4100 2886 4159 \nQ 2644 4219 2406 4219 \nQ 1781 4219 1451 3797 \nQ 1122 3375 1075 2522 \nQ 1259 2794 1537 2939 \nQ 1816 3084 2150 3084 \nQ 2853 3084 3261 2657 \nQ 3669 2231 3669 1497 \nQ 3669 778 3244 343 \nQ 2819 -91 2113 -91 \nQ 1303 -91 875 529 \nQ 447 1150 447 2328 \nQ 447 3434 972 4092 \nQ 1497 4750 2381 4750 \nQ 2619 4750 2861 4703 \nQ 3103 4656 3366 4563 \nz\n\" id=\"DejaVuSans-36\" transform=\"scale(0.015625)\"/>\n       </defs>\n       <use xlink:href=\"#DejaVuSans-2212\"/>\n       <use x=\"83.789062\" xlink:href=\"#DejaVuSans-30\"/>\n       <use x=\"147.412109\" xlink:href=\"#DejaVuSans-2e\"/>\n       <use x=\"179.199219\" xlink:href=\"#DejaVuSans-36\"/>\n      </g>\n     </g>\n    </g>\n    <g id=\"ytick_4\">\n     <g id=\"line2d_12\">\n      <g>\n       <use style=\"stroke:#000000;stroke-width:0.8;\" x=\"38.482813\" xlink:href=\"#m3446d778fb\" y=\"39.651153\"/>\n      </g>\n     </g>\n     <g id=\"text_12\">\n      <!-- −0.4 -->\n      <g transform=\"translate(7.2 43.450371)scale(0.1 -0.1)\">\n       <defs>\n        <path d=\"M 2419 4116 \nL 825 1625 \nL 2419 1625 \nL 2419 4116 \nz\nM 2253 4666 \nL 3047 4666 \nL 3047 1625 \nL 3713 1625 \nL 3713 1100 \nL 3047 1100 \nL 3047 0 \nL 2419 0 \nL 2419 1100 \nL 313 1100 \nL 313 1709 \nL 2253 4666 \nz\n\" id=\"DejaVuSans-34\" transform=\"scale(0.015625)\"/>\n       </defs>\n       <use xlink:href=\"#DejaVuSans-2212\"/>\n       <use x=\"83.789062\" xlink:href=\"#DejaVuSans-30\"/>\n       <use x=\"147.412109\" xlink:href=\"#DejaVuSans-2e\"/>\n       <use x=\"179.199219\" xlink:href=\"#DejaVuSans-34\"/>\n      </g>\n     </g>\n    </g>\n   </g>\n   <g id=\"line2d_13\">\n    <path clip-path=\"url(#pd65dc16c81)\" d=\"M 53.700994 18.810505 \nL 97.231263 195.287074 \nL 140.761531 214.756364 \nL 184.291799 206.212316 \nL 227.822068 193.059612 \nL 271.352336 181.744008 \nL 314.708483 174.209093 \nL 358.064631 170.006592 \n\" style=\"fill:none;stroke:#1f77b4;stroke-linecap:square;stroke-width:1.5;\"/>\n    <defs>\n     <path d=\"M 0 3 \nC 0.795609 3 1.55874 2.683901 2.12132 2.12132 \nC 2.683901 1.55874 3 0.795609 3 0 \nC 3 -0.795609 2.683901 -1.55874 2.12132 -2.12132 \nC 1.55874 -2.683901 0.795609 -3 0 -3 \nC -0.795609 -3 -1.55874 -2.683901 -2.12132 -2.12132 \nC -2.683901 -1.55874 -3 -0.795609 -3 0 \nC -3 0.795609 -2.683901 1.55874 -2.12132 2.12132 \nC -1.55874 2.683901 -0.795609 3 0 3 \nz\n\" id=\"m89a39933ec\" style=\"stroke:#1f77b4;\"/>\n    </defs>\n    <g clip-path=\"url(#pd65dc16c81)\">\n     <use style=\"fill:#1f77b4;stroke:#1f77b4;\" x=\"53.700994\" xlink:href=\"#m89a39933ec\" y=\"18.810505\"/>\n     <use style=\"fill:#1f77b4;stroke:#1f77b4;\" x=\"97.231263\" xlink:href=\"#m89a39933ec\" y=\"195.287074\"/>\n     <use style=\"fill:#1f77b4;stroke:#1f77b4;\" x=\"140.761531\" xlink:href=\"#m89a39933ec\" y=\"214.756364\"/>\n     <use style=\"fill:#1f77b4;stroke:#1f77b4;\" x=\"184.291799\" xlink:href=\"#m89a39933ec\" y=\"206.212316\"/>\n     <use style=\"fill:#1f77b4;stroke:#1f77b4;\" x=\"227.822068\" xlink:href=\"#m89a39933ec\" y=\"193.059612\"/>\n     <use style=\"fill:#1f77b4;stroke:#1f77b4;\" x=\"271.352336\" xlink:href=\"#m89a39933ec\" y=\"181.744008\"/>\n     <use style=\"fill:#1f77b4;stroke:#1f77b4;\" x=\"314.708483\" xlink:href=\"#m89a39933ec\" y=\"174.209093\"/>\n     <use style=\"fill:#1f77b4;stroke:#1f77b4;\" x=\"358.064631\" xlink:href=\"#m89a39933ec\" y=\"170.006592\"/>\n    </g>\n   </g>\n   <g id=\"line2d_14\">\n    <path clip-path=\"url(#pd65dc16c81)\" d=\"M 53.700994 17.083636 \nL 97.231263 192.39758 \nL 140.761531 209.775894 \nL 184.291799 197.88802 \nL 227.822068 179.597578 \nL 271.352336 161.01128 \nL 314.708483 144.55592 \nL 358.064631 130.920488 \n\" style=\"fill:none;stroke:#ff7f0e;stroke-linecap:square;stroke-width:1.5;\"/>\n    <defs>\n     <path d=\"M -3 3 \nL 3 -3 \nM -3 -3 \nL 3 3 \n\" id=\"m053fc0a9ab\" style=\"stroke:#ff7f0e;\"/>\n    </defs>\n    <g clip-path=\"url(#pd65dc16c81)\">\n     <use style=\"fill:#ff7f0e;stroke:#ff7f0e;\" x=\"53.700994\" xlink:href=\"#m053fc0a9ab\" y=\"17.083636\"/>\n     <use style=\"fill:#ff7f0e;stroke:#ff7f0e;\" x=\"97.231263\" xlink:href=\"#m053fc0a9ab\" y=\"192.39758\"/>\n     <use style=\"fill:#ff7f0e;stroke:#ff7f0e;\" x=\"140.761531\" xlink:href=\"#m053fc0a9ab\" y=\"209.775894\"/>\n     <use style=\"fill:#ff7f0e;stroke:#ff7f0e;\" x=\"184.291799\" xlink:href=\"#m053fc0a9ab\" y=\"197.88802\"/>\n     <use style=\"fill:#ff7f0e;stroke:#ff7f0e;\" x=\"227.822068\" xlink:href=\"#m053fc0a9ab\" y=\"179.597578\"/>\n     <use style=\"fill:#ff7f0e;stroke:#ff7f0e;\" x=\"271.352336\" xlink:href=\"#m053fc0a9ab\" y=\"161.01128\"/>\n     <use style=\"fill:#ff7f0e;stroke:#ff7f0e;\" x=\"314.708483\" xlink:href=\"#m053fc0a9ab\" y=\"144.55592\"/>\n     <use style=\"fill:#ff7f0e;stroke:#ff7f0e;\" x=\"358.064631\" xlink:href=\"#m053fc0a9ab\" y=\"130.920488\"/>\n    </g>\n   </g>\n   <g id=\"patch_3\">\n    <path d=\"M 38.482813 224.64 \nL 38.482813 7.2 \n\" style=\"fill:none;stroke:#000000;stroke-linecap:square;stroke-linejoin:miter;stroke-width:0.8;\"/>\n   </g>\n   <g id=\"patch_4\">\n    <path d=\"M 373.282813 224.64 \nL 373.282813 7.2 \n\" style=\"fill:none;stroke:#000000;stroke-linecap:square;stroke-linejoin:miter;stroke-width:0.8;\"/>\n   </g>\n   <g id=\"patch_5\">\n    <path d=\"M 38.482813 224.64 \nL 373.282813 224.64 \n\" style=\"fill:none;stroke:#000000;stroke-linecap:square;stroke-linejoin:miter;stroke-width:0.8;\"/>\n   </g>\n   <g id=\"patch_6\">\n    <path d=\"M 38.482813 7.2 \nL 373.282813 7.2 \n\" style=\"fill:none;stroke:#000000;stroke-linecap:square;stroke-linejoin:miter;stroke-width:0.8;\"/>\n   </g>\n   <g id=\"legend_1\">\n    <g id=\"patch_7\">\n     <path d=\"M 298.95 44.55625 \nL 366.282813 44.55625 \nQ 368.282813 44.55625 368.282813 42.55625 \nL 368.282813 14.2 \nQ 368.282813 12.2 366.282813 12.2 \nL 298.95 12.2 \nQ 296.95 12.2 296.95 14.2 \nL 296.95 42.55625 \nQ 296.95 44.55625 298.95 44.55625 \nz\n\" style=\"fill:#ffffff;opacity:0.8;stroke:#cccccc;stroke-linejoin:miter;\"/>\n    </g>\n    <g id=\"line2d_15\">\n     <path d=\"M 300.95 20.298437 \nL 320.95 20.298437 \n\" style=\"fill:none;stroke:#1f77b4;stroke-linecap:square;stroke-width:1.5;\"/>\n    </g>\n    <g id=\"line2d_16\">\n     <g>\n      <use style=\"fill:#1f77b4;stroke:#1f77b4;\" x=\"310.95\" xlink:href=\"#m89a39933ec\" y=\"20.298437\"/>\n     </g>\n    </g>\n    <g id=\"text_13\">\n     <!-- FCI -->\n     <g transform=\"translate(328.95 23.798437)scale(0.1 -0.1)\">\n      <defs>\n       <path d=\"M 628 4666 \nL 3309 4666 \nL 3309 4134 \nL 1259 4134 \nL 1259 2759 \nL 3109 2759 \nL 3109 2228 \nL 1259 2228 \nL 1259 0 \nL 628 0 \nL 628 4666 \nz\n\" id=\"DejaVuSans-46\" transform=\"scale(0.015625)\"/>\n       <path d=\"M 4122 4306 \nL 4122 3641 \nQ 3803 3938 3442 4084 \nQ 3081 4231 2675 4231 \nQ 1875 4231 1450 3742 \nQ 1025 3253 1025 2328 \nQ 1025 1406 1450 917 \nQ 1875 428 2675 428 \nQ 3081 428 3442 575 \nQ 3803 722 4122 1019 \nL 4122 359 \nQ 3791 134 3420 21 \nQ 3050 -91 2638 -91 \nQ 1578 -91 968 557 \nQ 359 1206 359 2328 \nQ 359 3453 968 4101 \nQ 1578 4750 2638 4750 \nQ 3056 4750 3426 4639 \nQ 3797 4528 4122 4306 \nz\n\" id=\"DejaVuSans-43\" transform=\"scale(0.015625)\"/>\n       <path d=\"M 628 4666 \nL 1259 4666 \nL 1259 0 \nL 628 0 \nL 628 4666 \nz\n\" id=\"DejaVuSans-49\" transform=\"scale(0.015625)\"/>\n      </defs>\n      <use xlink:href=\"#DejaVuSans-46\"/>\n      <use x=\"57.519531\" xlink:href=\"#DejaVuSans-43\"/>\n      <use x=\"127.34375\" xlink:href=\"#DejaVuSans-49\"/>\n     </g>\n    </g>\n    <g id=\"line2d_17\">\n     <path d=\"M 300.95 34.976562 \nL 320.95 34.976562 \n\" style=\"fill:none;stroke:#ff7f0e;stroke-linecap:square;stroke-width:1.5;\"/>\n    </g>\n    <g id=\"line2d_18\">\n     <g>\n      <use style=\"fill:#ff7f0e;stroke:#ff7f0e;\" x=\"310.95\" xlink:href=\"#m053fc0a9ab\" y=\"34.976562\"/>\n     </g>\n    </g>\n    <g id=\"text_14\">\n     <!-- UCCSD -->\n     <g transform=\"translate(328.95 38.476562)scale(0.1 -0.1)\">\n      <defs>\n       <path d=\"M 556 4666 \nL 1191 4666 \nL 1191 1831 \nQ 1191 1081 1462 751 \nQ 1734 422 2344 422 \nQ 2950 422 3222 751 \nQ 3494 1081 3494 1831 \nL 3494 4666 \nL 4128 4666 \nL 4128 1753 \nQ 4128 841 3676 375 \nQ 3225 -91 2344 -91 \nQ 1459 -91 1007 375 \nQ 556 841 556 1753 \nL 556 4666 \nz\n\" id=\"DejaVuSans-55\" transform=\"scale(0.015625)\"/>\n       <path d=\"M 3425 4513 \nL 3425 3897 \nQ 3066 4069 2747 4153 \nQ 2428 4238 2131 4238 \nQ 1616 4238 1336 4038 \nQ 1056 3838 1056 3469 \nQ 1056 3159 1242 3001 \nQ 1428 2844 1947 2747 \nL 2328 2669 \nQ 3034 2534 3370 2195 \nQ 3706 1856 3706 1288 \nQ 3706 609 3251 259 \nQ 2797 -91 1919 -91 \nQ 1588 -91 1214 -16 \nQ 841 59 441 206 \nL 441 856 \nQ 825 641 1194 531 \nQ 1563 422 1919 422 \nQ 2459 422 2753 634 \nQ 3047 847 3047 1241 \nQ 3047 1584 2836 1778 \nQ 2625 1972 2144 2069 \nL 1759 2144 \nQ 1053 2284 737 2584 \nQ 422 2884 422 3419 \nQ 422 4038 858 4394 \nQ 1294 4750 2059 4750 \nQ 2388 4750 2728 4690 \nQ 3069 4631 3425 4513 \nz\n\" id=\"DejaVuSans-53\" transform=\"scale(0.015625)\"/>\n       <path d=\"M 1259 4147 \nL 1259 519 \nL 2022 519 \nQ 2988 519 3436 956 \nQ 3884 1394 3884 2338 \nQ 3884 3275 3436 3711 \nQ 2988 4147 2022 4147 \nL 1259 4147 \nz\nM 628 4666 \nL 1925 4666 \nQ 3281 4666 3915 4102 \nQ 4550 3538 4550 2338 \nQ 4550 1131 3912 565 \nQ 3275 0 1925 0 \nL 628 0 \nL 628 4666 \nz\n\" id=\"DejaVuSans-44\" transform=\"scale(0.015625)\"/>\n      </defs>\n      <use xlink:href=\"#DejaVuSans-55\"/>\n      <use x=\"73.193359\" xlink:href=\"#DejaVuSans-43\"/>\n      <use x=\"143.017578\" xlink:href=\"#DejaVuSans-43\"/>\n      <use x=\"212.841797\" xlink:href=\"#DejaVuSans-53\"/>\n      <use x=\"276.318359\" xlink:href=\"#DejaVuSans-44\"/>\n     </g>\n    </g>\n   </g>\n  </g>\n </g>\n <defs>\n  <clipPath id=\"pd65dc16c81\">\n   <rect height=\"217.44\" width=\"334.8\" x=\"38.482813\" y=\"7.2\"/>\n  </clipPath>\n </defs>\n</svg>\n",
      "image/png": "[encoded data removed]"
     },
     "metadata": {
      "needs_background": "light"
     }
    }
   ],
   "source": [
    "import matplotlib.pyplot as plt\n",
    "\n",
    "plt.figure()\n",
    "plt.plot(distances, truth, marker=\"o\", label=\"FCI\")\n",
    "plt.plot(distances, [result.energy for result in uccsd_results], marker=\"x\", label=\"UCCSD\")\n",
    "\"\"\"\n",
    "for i, layer in enumerate(n_layers):\n",
    "    plt.plot(distances, [result.energy for result in hardware_results[i]], marker=\"o\", label=\"d=\"+str(layer))\n",
    "\"\"\"\n",
    "plt.legend()\n",
    "plt.show()\n"
   ]
  },
  {
   "cell_type": "markdown",
   "id": "662181de",
   "metadata": {},
   "source": [
    "# Python tips"
   ]
  },
  {
   "cell_type": "markdown",
   "id": "78389671",
   "metadata": {},
   "source": [
    "In stead of looking for documentation of the exact name of a function or attribute you are looking for, you can also you `__dict__` to peak into the object."
   ]
  },
  {
   "cell_type": "code",
   "execution_count": 18,
   "id": "39ca5213",
   "metadata": {},
   "outputs": [
    {
     "output_type": "execute_result",
     "data": {
      "text/plain": [
       "{'energy': -1.0429962747511703,\n",
       " 'history': OptimizerHistory(energies=[-1.0429962747511703, -1.0429116938644443], gradients=[], angles=[{(1, 0, 1, 0): 0.0}, {(1, 0, 1, 0): 0.00025}], energies_calls=[], gradients_calls=[], angles_calls=[]),\n",
       " 'variables': (1, 0, 1, 0) : 0.0,\n",
       " 'scipy_result':  final_simplex: (array([[0.     ],\n",
       "        [0.00025]]), array([-1.04299627, -1.04291169]))\n",
       "            fun: -1.0429962747511703\n",
       "        message: 'Optimization terminated successfully.'\n",
       "           nfev: 2\n",
       "            nit: 1\n",
       "         status: 0\n",
       "        success: True\n",
       "              x: array([0.])}"
      ]
     },
     "metadata": {},
     "execution_count": 18
    }
   ],
   "source": [
    "uccsd_results[1].__dict__"
   ]
  },
  {
   "cell_type": "markdown",
   "id": "b00e7ece",
   "metadata": {},
   "source": [
    "Use iterators and list comprehension (also works for dicts) to make simple one-line for loops. Although you can create very complicated one-liners this way, it does not help the understandability of the code.\n",
    "\n",
    "Below a one-liner that prints the error of the UCCSD ansatz for each distance."
   ]
  },
  {
   "cell_type": "code",
   "execution_count": 19,
   "id": "e8974151",
   "metadata": {},
   "outputs": [
    {
     "output_type": "stream",
     "name": "stdout",
     "text": [
      "{0.25: 0.007269368942942944, 0.5: 0.0121635199368475, 0.75: 0.020965618422907673, 1.0: 0.03504168094764282, 1.25: 0.056669330520575656, 1.5: 0.08727579897565052, 1.749: 0.12482700863733986, 1.9980000000000002: 0.16453556184020945}\n"
     ]
    }
   ],
   "source": [
    "print({d:r.energy - t for d,t,r in zip(distances, truth, uccsd_results)})"
   ]
  },
  {
   "source": [
    "Use push function"
   ],
   "cell_type": "markdown",
   "metadata": {}
  },
  {
   "cell_type": "code",
   "execution_count": 18,
   "metadata": {
    "tags": []
   },
   "outputs": [
    {
     "output_type": "error",
     "ename": "IndentationError",
     "evalue": "unexpected indent (<ipython-input-18-b343266d738a>, line 2)",
     "traceback": [
      "\u001b[0;36m  File \u001b[0;32m\"<ipython-input-18-b343266d738a>\"\u001b[0;36m, line \u001b[0;32m2\u001b[0m\n\u001b[0;31m    for i in range(1, res_len):\u001b[0m\n\u001b[0m    ^\u001b[0m\n\u001b[0;31mIndentationError\u001b[0m\u001b[0;31m:\u001b[0m unexpected indent\n"
     ]
    }
   ],
   "source": []
  },
  {
   "cell_type": "code",
   "execution_count": null,
   "metadata": {},
   "outputs": [],
   "source": []
  }
 ],
 "metadata": {
  "kernelspec": {
   "name": "python3710jvsc74a57bd068728e7973b4d0a4f4b914c7c7a8681546f4eefead5b86448e6ac7d5f8ba42f1",
   "display_name": "Python 3.7.10 64-bit ('libMark': conda)"
  },
  "language_info": {
   "codemirror_mode": {
    "name": "ipython",
    "version": 3
   },
   "file_extension": ".py",
   "mimetype": "text/x-python",
   "name": "python",
   "nbconvert_exporter": "python",
   "pygments_lexer": "ipython3",
   "version": "3.7.10"
  },
  "metadata": {
   "interpreter": {
    "hash": "68728e7973b4d0a4f4b914c7c7a8681546f4eefead5b86448e6ac7d5f8ba42f1"
   }
  }
 },
 "nbformat": 4,
 "nbformat_minor": 5
}
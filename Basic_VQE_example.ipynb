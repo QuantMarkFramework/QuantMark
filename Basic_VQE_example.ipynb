{
 "cells": [
  {
   "cell_type": "markdown",
   "source": [
    "# General VQE example"
   ],
   "metadata": {}
  },
  {
   "cell_type": "markdown",
   "source": [
    "Right now, we are building our library to work together with Tequila ([Github](https://github.com/aspuru-guzik-group/tequila), [paper](https://arxiv.org/pdf/2011.03057.pdf)). So let's start with importing it."
   ],
   "metadata": {}
  },
  {
   "cell_type": "code",
   "execution_count": null,
   "source": [
    "import tequila as tq"
   ],
   "outputs": [],
   "metadata": {}
  },
  {
   "cell_type": "markdown",
   "source": [
    "Lets also import numpy for easy calculations"
   ],
   "metadata": {}
  },
  {
   "cell_type": "code",
   "execution_count": null,
   "source": [
    "import numpy as np\n",
    "from LibMark2.quantmark import Qresult"
   ],
   "outputs": [],
   "metadata": {}
  },
  {
   "cell_type": "markdown",
   "source": [
    "## Create Molecules\n",
    "The Variational Quantum Eigensolver (VQE) algorithm \"simulates\" molecules on a quantum level. This basically comes down to that it is able to find the \"ground state energy\" (the energy belonging to the lowest state it can be in) of the molecule. This is interesting because chemicals like to be in their lowest energy state.\n",
    "\n",
    "A VQE works by approximating the eigenvalues of a matrix. In quantum chemistry, the molecule is represented by a matrix called the Hamiltonian such that the eigenvalues of the Hamiltonian correspond to the possible energy level of the molecule and the eigenvectors represent the molecular states. The lowest eigenvalue is the lowest energy state, which is the one we are trying to find.\n",
    "\n",
    "In order to represent this molecule on a quantum computer, we need to agree on a method to turn electron states of the molecule to qubits. And ofcourse, there are multiple ways you can do this and they depend on your `basis_set` (analogous to 3D systems: what is up? Left-handed vs right-handed systems). Although there are many choices for the `basis_set`, `\"sto-3g\"` is the most commenly used one in VQE. The choice of `transformation` is a bit more controversial. There are multiple camps, but the 2 largest are `\"jordan-wigner\"` and `\"bravyi-kitaev\"`. Here is a [paper](https://arxiv.org/pdf/1812.02233.pdf) that compares the two with a more detailed explanation."
   ],
   "metadata": {}
  },
  {
   "cell_type": "markdown",
   "source": [
    "Below we create a hydrogen molecule and a Lithium Hydride molecule. The former consists of two H atoms, and the latter of a Li atom and a H atom. One is located in the origin (0.0, 0.0, 0.0) and the other is a distance `R` away (0.0, 0.0,`R`). This is called the `geometry`.\n",
    "\n",
    "Tequila takes care of the inter-library communication and has a simple Molecule class that we use. Under the surface, it actually uses the molecule representation of which ever chemistry library you have installed. I used [`psi4`](https://psicode.org/), but [`pyscf`](https://pyscf.org/) and [`madness`](https://github.com/m-a-d-n-e-s-s/madness) are also popular, supported choices."
   ],
   "metadata": {}
  },
  {
   "cell_type": "code",
   "execution_count": null,
   "source": [
    "def create_H2(R, basis_set=\"sto-3g\", transformation=\"jordan-wigner\", **kwargs): \n",
    "    geometry = f'H 0.0 0.0 0.0\\nH 0.0 0.0 {R}'\n",
    "    return tq.chemistry.Molecule(geometry=geometry, basis_set=basis_set, transformation=transformation, **kwargs)\n",
    "\n",
    "def create_LiH(R, basis_set=\"sto-3g\", transformation=\"jordan-wigner\", **kwargs):\n",
    "    geometry = f'Li 0.0 0.0 0.0\\nH 0.0 0.0 {R}'\n",
    "    return tq.chemistry.Molecule(geometry=geometry, basis_set=basis_set, transformation=transformation, **kwargs)"
   ],
   "outputs": [],
   "metadata": {}
  },
  {
   "cell_type": "markdown",
   "source": [
    "Given a molecule and the way you want it represented, you can calculate/generate the matrix that describes the entire thing: the Hamiltonian.\n",
    "\n",
    "Again, Tequila does the hard work for us"
   ],
   "metadata": {}
  },
  {
   "cell_type": "code",
   "execution_count": null,
   "source": [
    "def create_hamiltonian(molecule):\n",
    "    return molecule.make_hamiltonian()"
   ],
   "outputs": [],
   "metadata": {}
  },
  {
   "cell_type": "markdown",
   "source": [
    "### Baseline truth\n",
    "We want to see if our VQE algorithm actually finds what it needs to find. To do this, we calculate the ground state energy by hand, which is a lot faster than simulating the molecule for small molecules like this, but the idea is to use this algorithm for molecules that are too large to simulate with a classical computer. Unfortunately, these molecules are also too large to simulate on current quantum computers. So it is basically a proof of concept.\n",
    "\n",
    "We are using `\"fci\"` as a method for calculating the true energy since this is what is used in most, if not all, VQE papers. I am not sure what it means. Other options for psi4 can be found [here](https://psicode.org/psi4manual/master/api/psi4.driver.energy.html)."
   ],
   "metadata": {}
  },
  {
   "cell_type": "code",
   "execution_count": null,
   "source": [
    "def calculate_true_ground_state_energy(molecule):\n",
    "    return molecule.compute_energy(\"fci\")"
   ],
   "outputs": [],
   "metadata": {}
  },
  {
   "cell_type": "markdown",
   "source": [
    "Unfortunately, there is a bug that sometimes gives a weird error from psi4 regarding that something is NULL in detci. It does this for some molecules (with different R) and changing the R slightly removes the error. However, this error is device dependent. Me and Leo get it for different R values. Workaround below. "
   ],
   "metadata": {}
  },
  {
   "cell_type": "markdown",
   "source": [
    "## Create the ansatz\n",
    "The [ansatz](https://en.wikipedia.org/wiki/Ansatz) is the educated guess that we are going to adjust to find the solution. In principle, it can by literally any quantum circuit as long as it has sufficient amount of parameters to adjust and sufficient amount of entanglement (2-qubit gates) to represent what is actually going on in the molecule."
   ],
   "metadata": {}
  },
  {
   "cell_type": "markdown",
   "source": [
    "### UCCSD ansatz\n",
    "The UCCSD ansatz is chemically-inspired. This means that the structure of the circuit reflects the structure of the molecule. You can find a bit more information about it [here](https://en.wikipedia.org/wiki/Coupled_cluster). This ansatz was originally used for the first VQE algorithm ([paper](https://arxiv.org/pdf/1304.3061.pdf)).\n",
    "\n",
    "It is not important for you to know how it works, only that it exists and Tequila can make one for us."
   ],
   "metadata": {}
  },
  {
   "cell_type": "code",
   "execution_count": null,
   "source": [
    "def make_uccsd_ansatz(molecule, trotter_steps, n_qubits=None, **kwargs): \n",
    "    return molecule.make_uccsd_ansatz(trotter_steps, **kwargs)"
   ],
   "outputs": [],
   "metadata": {}
  },
  {
   "cell_type": "markdown",
   "source": [
    "Note that the n_qubits parameters is not used here. It is only there to unify the function call to the ansatz creation later with respect to the hardware efficient ansatz (which needs n_qubits, but not the molecule)."
   ],
   "metadata": {}
  },
  {
   "cell_type": "markdown",
   "source": [
    "### Hardware efficient ansatz\n",
    "The hardware-efficient ansatz attempts to take the device hardware into account when constructing the ansatz and not the molecular structure. In general, it consists of layers of parametrized single qubit rotations on each qubit and a large entangling operation (`uent`) on every qubit, created with 2-qubit gates that fit the device. This structure really resembles a fully connected neural network where the rotations are the weights.\n",
    "\n",
    "From my compiling experience, I know that this is a crazy inefficient structure. Moreover, in practice `uent` is structured in a line and then run on quantum devices whose architectures don't support a line. This is where I want to make changes, but I need a baseline to compare to."
   ],
   "metadata": {}
  },
  {
   "cell_type": "markdown",
   "source": [
    "The hardware-efficient ansatz was originally proposed in [this paper](https://arxiv.org/abs/1704.05018). Originally, it took _45 days_ to run on an actual IBM quantum computer for the LiH molecule, but IBM recently managed to improve that time to _9 hours_ using more efficient code ([see announcement](https://research.ibm.com/blog/120x-quantum-speedup?lnk=ushpv18re2))."
   ],
   "metadata": {}
  },
  {
   "cell_type": "code",
   "execution_count": null,
   "source": [
    "def create_uent(n_qubits):\n",
    "    circuit = tq.QCircuit()\n",
    "    for i in range(1, n_qubits, 2):\n",
    "        circuit += tq.gates.CZ(target=i, control=i-1)\n",
    "    for i in range(2, n_qubits, 2):\n",
    "        circuit += tq.gates.CZ(target=i, control=i-1)\n",
    "    return circuit\n",
    "\n",
    "\n",
    "def create_rotations(n_qubits, depth_position):\n",
    "    circuit = tq.QCircuit()\n",
    "    for qubit in range(n_qubits):\n",
    "        circuit += tq.gates.Rz(f'{qubit}^{depth_position}_0',target=qubit)\n",
    "        circuit += tq.gates.Rx(f'{qubit}^{depth_position}_1',target=qubit)\n",
    "        circuit += tq.gates.Rz(f'{qubit}^{depth_position}_2',target=qubit)\n",
    "    return circuit\n",
    "\n",
    "def make_hardware_ansatz(n_qubits, d, uent = None, **kwargs):\n",
    "    if not uent:\n",
    "        uent = create_uent(n_qubits)\n",
    "    circuit = create_rotations(n_qubits, 0)\n",
    "    for depth in range(0, d):\n",
    "        circuit += uent\n",
    "        circuit += create_rotations(n_qubits, depth)\n",
    "    return circuit"
   ],
   "outputs": [],
   "metadata": {}
  },
  {
   "cell_type": "markdown",
   "source": [
    "## Optimizer\n",
    "The optimizer is basically a function to determine how to change the parameters in the ansatz based on its performance the full algorithm. In most VQE papers this is done either using the `\"Nelder-Mead\"` simplex method or the `\"BFGS\"` optimizer. I believe both are exact optimizers, so I am still curious to see whether it can be sped up using an approximate optimizer. \n",
    "\n",
    "Luckily, Tequila takes care of all this and we only need to give a string to `tq.minimize(...)` together with the problem description."
   ],
   "metadata": {}
  },
  {
   "cell_type": "code",
   "execution_count": null,
   "source": [
    "optimizer=\"Nelder-Mead\" # Alternatively: \"BFGS\""
   ],
   "outputs": [],
   "metadata": {}
  },
  {
   "cell_type": "markdown",
   "source": [
    "# Main loop"
   ],
   "metadata": {}
  },
  {
   "cell_type": "markdown",
   "source": [
    "In the VQE papers, when showing the performance of the algorithm, they generally plot the obtained ground state energy against different inter-atomic distances in the molecule. We are doing the same. \n",
    "\n",
    "I recommend to only use the H2 when trying different things. LiH took about a day on my desktop with i7 and GTX 1070 (CUDA accelerated) with the UCCSD ansatz, 10 trotter steps and 7 orbital distances. That is not suitable for trying things out."
   ],
   "metadata": {}
  },
  {
   "cell_type": "code",
   "execution_count": null,
   "source": [
    "step = 0.25\n",
    "molecular_distances = np.arange(.0 + step, 2.0 + step, step) # Quick one-based iterator with given step size.\n",
    "print(*molecular_distances)"
   ],
   "outputs": [],
   "metadata": {
    "scrolled": true
   }
  },
  {
   "cell_type": "markdown",
   "source": [
    "As said before, psi4 might give an error when calculating the ground truth. As a workaround we try again with a similar, but different value. We store the new distances for easy plotting later. The molecules with the approximate distances between the molecules are also used for the VQE for direct comparison."
   ],
   "metadata": {}
  },
  {
   "cell_type": "code",
   "execution_count": null,
   "source": [
    "# psi4 error workaround\n",
    "def create_molecules(molecule_function, distances):\n",
    "    molecules = []\n",
    "    actual_distances = []\n",
    "    true_energies = []\n",
    "    for r in distances:\n",
    "        success = False\n",
    "        while not success:\n",
    "            try:\n",
    "                molecule = molecule_function(r)\n",
    "                energy = calculate_true_ground_state_energy(molecule)\n",
    "                success = True\n",
    "            except:\n",
    "                print(\"Error with distance\", r)\n",
    "                r -= 0.001 #Try again with a slightly smhttp://0.0.0.0:8000/api/aller distance\n",
    "        molecules.append(molecule)\n",
    "        actual_distances.append(r)\n",
    "        true_energies.append(energy)\n",
    "    return molecules, actual_distances, true_energies\n",
    "            \n",
    "\n",
    "# Create the molecules\n",
    "molecules, distances, truth = create_molecules(create_H2, molecular_distances) "
   ],
   "outputs": [],
   "metadata": {}
  },
  {
   "cell_type": "code",
   "execution_count": null,
   "source": [
    "# Note that you can also retroactively find the molecular distance in the geometry of the molecule object.\n",
    "molecules[0].parameters.get_geometry()[-1][-1][-1]"
   ],
   "outputs": [],
   "metadata": {}
  },
  {
   "cell_type": "markdown",
   "source": [
    "Given all the components, we can put together the main loop.\n",
    "\n",
    "From the molecule, we make the hamiltonian `H`. \n",
    "Then we can make the ansatz `U` which requires the `molecule` if it is chemically-inspired and the number of qubits `n_qubits` if it is hardware efficient. \n",
    "For the optimizer, we need to know the objective function `E`, which is the expection of the ansatz and hamiltonian together. A more detailed explanation with math example can be found [here](https://github.com/Le0nerdo/random/blob/main/Using_VQE_to_Approximate_the_Lowest_Eigenvalue_of_a_Hermitian_Matrix.ipynb).\n",
    "The variables of the optimizer are the parameterized gates in the ansatz `U`.\n",
    "Then we can find an approximate minimal solution using the given optimizer method, `optimizer`."
   ],
   "metadata": {}
  },
  {
   "cell_type": "code",
   "execution_count": null,
   "source": [
    "# Generic batch optimize for \"any\" VQE\n",
    "def run_vqe(molecules, hamiltonian_function, ansatz_function, optimizer, silent=True, **ansatz_kwargs):\n",
    "    results = []\n",
    "    qresult = Qresult(optimizer)\n",
    "    for i, molecule in enumerate(molecules):\n",
    "        print(str(i+1)+\"/\"+str(len(molecules)), end=\"\\t\")\n",
    "        print(\"Creating the Hamiltonian.\", end=\"\\t\")\n",
    "        H = hamiltonian_function(molecule)\n",
    "        n_qubits = len(H.qubits)\n",
    "        print(\"Creating ansatz.\", end=\"\\t\")\n",
    "        U = ansatz_function(molecule=molecule, n_qubits=n_qubits, **ansatz_kwargs)\n",
    "        print(\"Creating objective function\")\n",
    "        E = tq.ExpectationValue(H=H, U=U)\n",
    "        variables = {k:0.0 for k in U.extract_variables()}\n",
    "        print(\"Optimizing.\", end=\"\\t\")\n",
    "        result = tq.minimize(objective=E, method=optimizer, initial_values=variables, silent=silent)\n",
    "        print()\n",
    "        results.append(result)\n",
    "        print(result)\n",
    "        qresult.add_run(result, molecule, H, U)\n",
    "    print(\"Done\")\n",
    "    #qresult.push()\n",
    "    return results"
   ],
   "outputs": [],
   "metadata": {}
  },
  {
   "cell_type": "markdown",
   "source": [
    "To run the above loop with the uccsd ansatz, we nee do pick the amout of `trotter_steps` that are needed to create the ansatz. More steps is more accurate chemical representaiton, but also a larger circuit. I just picked 10 arbitrarily"
   ],
   "metadata": {}
  },
  {
   "cell_type": "code",
   "execution_count": null,
   "source": [
    "uccsd_ansatz_kwargs = {\"trotter_steps\": 3}\n",
    "uccsd_results = run_vqe(molecules, create_hamiltonian, make_uccsd_ansatz, optimizer, **uccsd_ansatz_kwargs)"
   ],
   "outputs": [],
   "metadata": {
    "tags": []
   }
  },
  {
   "cell_type": "code",
   "execution_count": null,
   "source": [
    "print(uccsd_results.get_types())\n"
   ],
   "outputs": [],
   "metadata": {
    "tags": []
   }
  },
  {
   "cell_type": "code",
   "execution_count": null,
   "source": [
    "print(uccsd_results.get_results())"
   ],
   "outputs": [],
   "metadata": {}
  },
  {
   "cell_type": "markdown",
   "source": [
    "Similarly, for the hardware efficient ansatz, we need to pick the number of layers. We try a few different ones."
   ],
   "metadata": {}
  },
  {
   "cell_type": "code",
   "execution_count": null,
   "source": [
    "\n",
    "n_layers = range(2, 4) \n",
    "hardware_results = []\n",
    "for layers in n_layers:\n",
    "    print(\"Hardware efficient ansatz with\", layers, \"layers.\")\n",
    "    hardware_ansatz_kwargs = {\"d\":layers}\n",
    "    result = run_vqe(molecules, create_hamiltonian, make_hardware_ansatz, optimizer, **hardware_ansatz_kwargs)\n",
    "    hardware_results.append(result)\n"
   ],
   "outputs": [],
   "metadata": {}
  },
  {
   "cell_type": "markdown",
   "source": [
    "# Plotting results"
   ],
   "metadata": {}
  },
  {
   "cell_type": "code",
   "execution_count": null,
   "source": [
    "import matplotlib.pyplot as plt\n",
    "\n",
    "plt.figure()\n",
    "plt.plot(distances, truth, marker=\"o\", label=\"FCI\")\n",
    "plt.plot(distances, [result.energy for result in uccsd_results], marker=\"x\", label=\"UCCSD\")\n",
    "\n",
    "for i, layer in enumerate(n_layers):\n",
    "    plt.plot(distances, [result.energy for result in hardware_results[i]], marker=\"o\", label=\"d=\"+str(layer))\n",
    "\n",
    "plt.legend()\n",
    "plt.show()\n"
   ],
   "outputs": [],
   "metadata": {}
  },
  {
   "cell_type": "markdown",
   "source": [
    "# Python tips"
   ],
   "metadata": {}
  },
  {
   "cell_type": "markdown",
   "source": [
    "In stead of looking for documentation of the exact name of a function or attribute you are looking for, you can also you `__dict__` to peak into the object."
   ],
   "metadata": {}
  },
  {
   "cell_type": "code",
   "execution_count": null,
   "source": [
    "uccsd_results[1].__dict__"
   ],
   "outputs": [],
   "metadata": {}
  },
  {
   "cell_type": "markdown",
   "source": [
    "Use iterators and list comprehension (also works for dicts) to make simple one-line for loops. Although you can create very complicated one-liners this way, it does not help the understandability of the code.\n",
    "\n",
    "Below a one-liner that prints the error of the UCCSD ansatz for each distance."
   ],
   "metadata": {}
  },
  {
   "cell_type": "code",
   "execution_count": null,
   "source": [
    "print({d:r.energy - t for d,t,r in zip(distances, truth, uccsd_results)})"
   ],
   "outputs": [],
   "metadata": {}
  }
 ],
 "metadata": {
  "kernelspec": {
   "name": "python3710jvsc74a57bd068728e7973b4d0a4f4b914c7c7a8681546f4eefead5b86448e6ac7d5f8ba42f1",
   "display_name": "Python 3.7.10 64-bit ('libMark': conda)"
  },
  "language_info": {
   "codemirror_mode": {
    "name": "ipython",
    "version": 3
   },
   "file_extension": ".py",
   "mimetype": "text/x-python",
   "name": "python",
   "nbconvert_exporter": "python",
   "pygments_lexer": "ipython3",
   "version": "3.7.10"
  },
  "metadata": {
   "interpreter": {
    "hash": "68728e7973b4d0a4f4b914c7c7a8681546f4eefead5b86448e6ac7d5f8ba42f1"
   }
  }
 },
 "nbformat": 4,
 "nbformat_minor": 5
}
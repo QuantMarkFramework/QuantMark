{
 "cells": [
  {
   "cell_type": "markdown",
   "metadata": {},
   "source": [
    "A simple notebook for generating FCI values"
   ]
  },
  {
   "cell_type": "code",
   "execution_count": 1,
   "metadata": {},
   "outputs": [],
   "source": [
    "import tequila as tq\n",
    "import numpy as np"
   ]
  },
  {
   "cell_type": "code",
   "execution_count": 2,
   "metadata": {},
   "outputs": [],
   "source": [
    "def create_H2(R, **kwargs):\n",
    "    geometry = f'H 0.0 0.0 0.0\\nH 0.0 0.0 {R}'\n",
    "    return tq.chemistry.Molecule(geometry=geometry, **kwargs)"
   ]
  },
  {
   "cell_type": "markdown",
   "metadata": {},
   "source": [
    "Here you can specify the basis set, transformation and distances"
   ]
  },
  {
   "cell_type": "code",
   "execution_count": 24,
   "metadata": {},
   "outputs": [],
   "source": [
    "basis_set = \"def2-QZVPPD\" # sto-3g, 6-31g, def2-QZVPPD\n",
    "transformation = \"bravyi-kitaev\" # jordan-wigner, bravyi-kitaev, tapered_bravyi_kitaev\n",
    "step = 0.1\n",
    "distances = np.arange(0 + step, 3 + step, step)"
   ]
  },
  {
   "cell_type": "markdown",
   "metadata": {},
   "source": [
    "Get FCI values, note the psi4 issue workaround"
   ]
  },
  {
   "cell_type": "code",
   "execution_count": 26,
   "metadata": {},
   "outputs": [],
   "source": [
    "def get_energies(dist):\n",
    "    r_energy = []\n",
    "    for r in dist:\n",
    "        success = False\n",
    "        while not success:\n",
    "            try:\n",
    "                mol = create_H2(r, basis_set=basis_set, transformation=transformation)\n",
    "                energy = mol.compute_energy('fci')\n",
    "                success = True\n",
    "            except:\n",
    "                r -= 0.001\n",
    "        print(f'success with distance {r}')\n",
    "        r_energy.append((r, energy))\n",
    "    return r_energy"
   ]
  },
  {
   "cell_type": "code",
   "execution_count": 27,
   "metadata": {},
   "outputs": [
    {
     "name": "stdout",
     "output_type": "stream",
     "text": [
      "success with 0.1\n",
      "success with 0.2\n",
      "success with 0.30000000000000004\n",
      "success with 0.4\n",
      "success with 0.5\n",
      "success with 0.6\n",
      "success with 0.7000000000000001\n",
      "success with 0.8\n",
      "success with 0.9\n",
      "success with 1.0\n",
      "success with 1.1\n",
      "success with 1.2000000000000002\n",
      "success with 1.3000000000000003\n",
      "success with 1.4000000000000001\n",
      "success with 1.5000000000000002\n",
      "success with 1.6\n",
      "success with 1.7000000000000002\n",
      "success with 1.8000000000000003\n",
      "success with 1.9000000000000001\n",
      "success with 2.0\n",
      "success with 2.1\n",
      "success with 2.2\n",
      "success with 2.3000000000000003\n",
      "success with 2.4000000000000004\n",
      "success with 2.5000000000000004\n",
      "success with 2.6\n",
      "success with 2.7\n",
      "success with 2.8000000000000003\n",
      "success with 2.9000000000000004\n",
      "success with 3.0000000000000004\n",
      "[(0.1, 2.483228142870508), (0.2, 0.007020457663195145), (0.30000000000000004, -0.7002428631971), (0.4, -0.9809447180872586), (0.5, -1.1034955671575832), (0.6, -1.1554296976732226), (0.7000000000000001, -1.1726207581214518), (0.8, -1.1719086561942222), (0.9, -1.1618783799179457), (1.0, -1.147211688077271), (1.1, -1.1305784577760951), (1.2000000000000002, -1.113547060645523), (1.3000000000000003, -1.0970553900668039), (1.4000000000000001, -1.0816634589274243), (1.5000000000000002, -1.0676938976979753), (1.6, -1.0553120826069264), (1.7000000000000002, -1.0445727429809089), (1.8000000000000003, -1.0354482195410517), (1.9000000000000001, -1.0278479254606028), (2.0, -1.021635156788566), (2.1, -1.0166440148270257), (2.2, -1.0126961196961672), (2.3000000000000003, -1.0096152658420328), (2.4000000000000004, -1.0072383422222586), (2.5000000000000004, -1.0054218764016647), (2.6, -1.0040446134748855), (2.7, -1.0030071659617485), (2.8000000000000003, -1.002229916132279), (2.9000000000000004, -1.0016501635026025), (3.0000000000000004, -1.0012192081020872)]\n"
     ]
    }
   ],
   "source": [
    "print(get_energies(distances))"
   ]
  }
 ],
 "metadata": {
  "interpreter": {
   "hash": "68728e7973b4d0a4f4b914c7c7a8681546f4eefead5b86448e6ac7d5f8ba42f1"
  },
  "kernelspec": {
   "display_name": "Python 3.7.10 64-bit ('libMark': conda)",
   "name": "python3"
  },
  "language_info": {
   "name": "python",
   "version": ""
  },
  "orig_nbformat": 4
 },
 "nbformat": 4,
 "nbformat_minor": 2
}